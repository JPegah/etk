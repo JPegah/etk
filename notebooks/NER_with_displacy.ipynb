{
 "cells": [
  {
   "cell_type": "markdown",
   "metadata": {
    "collapsed": true
   },
   "source": [
    ""
   ]
  },
  {
   "cell_type": "code",
   "execution_count": 20,
   "metadata": {
    "collapsed": true
   },
   "outputs": [],
   "source": [
    "import spacy\n",
    "from spacy import displacy"
   ]
  },
  {
   "cell_type": "code",
   "execution_count": 21,
   "metadata": {},
   "outputs": [],
   "source": [
    "text = \"Las Vegas victim's family wants shooter's assets seized - CNN #SmartNews Emotional \" \\\n",
    "       \"Jimmy Kimmel rips gun-control foes after Vegas shooting The Onion’s Las Vegas Shooting \" \\\n",
    "       \"shooting https://t.co/aTPUnGvz9c mashable Controlled Chaos at Las Vegas Hospital Trauma Center \" \\\n",
    "       \"shooting: Carla and Jae Unser hugged their children… \" \\\n",
    "       \"YouTube changed its search algorithm after reports revealed it was surfacing inaccurate \" \\\n",
    "       \"Stephen Paddock was 'upbeat, happy' as he bought guns\""
   ]
  },
  {
   "cell_type": "markdown",
   "metadata": {},
   "source": [
    "Load spacy build-in language model, create doc. Use en_core_web_sm for efficienty here."
   ]
  },
  {
   "cell_type": "code",
   "execution_count": 22,
   "metadata": {},
   "outputs": [],
   "source": [
    "nlp = spacy.load('en_core_web_sm')\n",
    "doc = nlp(text)"
   ]
  },
  {
   "cell_type": "code",
   "execution_count": 25,
   "metadata": {},
   "outputs": [
    {
     "name": "stdout",
     "output_type": "stream",
     "text": [
      "Las Vegas 0 9 GPE\nCNN 58 61 ORG\nSmartNews 63 72 ORG\nJimmy Kimmel 83 95 PERSON\nOnion 143 148 ORG\nLas Vegas 151 160 GPE\nLas Vegas Hospital Trauma Center 232 264 ORG\nCarla 275 280 PERSON\nYouTube 318 325 ORG\nStephen Paddock 406 421 PERSON\n"
     ]
    }
   ],
   "source": [
    "for ent in doc.ents:\n",
    "    print(ent.text, ent.start_char, ent.end_char, ent.label_)"
   ]
  },
  {
   "cell_type": "code",
   "execution_count": 19,
   "metadata": {
    "collapsed": false
   },
   "outputs": [
    {
     "name": "stdout",
     "output_type": "stream",
     "text": [
      "\n\u001b[93m    Serving on port 5000...\u001b[0m\n    Using the 'ent' visualizer\n\n"
     ]
    },
    {
     "name": "stderr",
     "output_type": "stream",
     "text": [
      "127.0.0.1 - - [17/Apr/2018 16:30:58] \"GET / HTTP/1.1\" 200 4731\n"
     ]
    },
    {
     "name": "stderr",
     "output_type": "stream",
     "text": [
      "127.0.0.1 - - [17/Apr/2018 16:30:59] \"GET /favicon.ico HTTP/1.1\" 200 4731\n"
     ]
    },
    {
     "name": "stderr",
     "output_type": "stream",
     "text": [
      "127.0.0.1 - - [17/Apr/2018 16:33:30] \"GET / HTTP/1.1\" 200 4731\n"
     ]
    },
    {
     "name": "stdout",
     "output_type": "stream",
     "text": [
      "\n    Shutting down server on port 5000.\n\n"
     ]
    }
   ],
   "source": [
    "displacy.serve(doc, style='ent')"
   ]
  }
 ],
 "metadata": {
  "kernelspec": {
   "display_name": "Python 2",
   "language": "python",
   "name": "python2"
  },
  "language_info": {
   "codemirror_mode": {
    "name": "ipython",
    "version": 2.0
   },
   "file_extension": ".py",
   "mimetype": "text/x-python",
   "name": "python",
   "nbconvert_exporter": "python",
   "pygments_lexer": "ipython2",
   "version": "2.7.6"
  }
 },
 "nbformat": 4,
 "nbformat_minor": 0
}